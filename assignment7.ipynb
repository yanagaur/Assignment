{
  "nbformat": 4,
  "nbformat_minor": 0,
  "metadata": {
    "colab": {
      "provenance": []
    },
    "kernelspec": {
      "name": "python3",
      "display_name": "Python 3"
    },
    "language_info": {
      "name": "python"
    }
  },
  "cells": [
    {
      "cell_type": "markdown",
      "source": [
        "Abstraction in python is defined as a process of handling complexity by hiding unnecessary information from the user.\n",
        "while visiting and reading blogs on the GreatLearning we tend to click on various links and perform various functions unknowingly what is happening in the background. That is exactly the abstraction that works in the OOP."
      ],
      "metadata": {
        "id": "Msf_Nb2QJobK"
      }
    },
    {
      "cell_type": "markdown",
      "source": [
        "Abstraction is a process of hiding unnecessary data and showing only relevant data. Out of an ocean of data, we are only maintaining the transparency of some data to the user. This important concept in object-oriented programming will reduce the complexity of the code and increases the readability."
      ],
      "metadata": {
        "id": "0waRE7_vJyzO"
      }
    },
    {
      "cell_type": "markdown",
      "source": [
        "Encapsulation is binding the data members with member variables. This will avoid the direct access of variables, because direct access of variables may violate privacy, and hiding of the implementation will not be possible."
      ],
      "metadata": {
        "id": "mnaefyfKKCXl"
      }
    },
    {
      "cell_type": "markdown",
      "source": [
        "This module provides the infrastructure for defining abstract base classes (ABCs) in Python"
      ],
      "metadata": {
        "id": "2q25KsW4KOQw"
      }
    },
    {
      "cell_type": "markdown",
      "source": [
        "In Python, abstraction can be achieved by having/using abstract classes and methods in our programs."
      ],
      "metadata": {
        "id": "hIRZrOjeKXAH"
      }
    },
    {
      "cell_type": "markdown",
      "source": [
        "Abstract classes cannot be instantiated, but they can be subclassed. When an abstract class is subclassed, the subclass usually provides implementations for all of the abstract methods in its parent class. However, if it does not, then the subclass must also be declared abstract ."
      ],
      "metadata": {
        "id": "Ma9oJFRnKc0z"
      }
    }
  ]
}