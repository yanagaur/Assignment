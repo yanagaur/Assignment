{
  "nbformat": 4,
  "nbformat_minor": 0,
  "metadata": {
    "colab": {
      "provenance": []
    },
    "kernelspec": {
      "name": "python3",
      "display_name": "Python 3"
    },
    "language_info": {
      "name": "python"
    }
  },
  "cells": [
    {
      "cell_type": "markdown",
      "source": [
        "the science of collecting organizing and analyzing data is statistics."
      ],
      "metadata": {
        "id": "wJ1xUFyzvegw"
      }
    },
    {
      "cell_type": "markdown",
      "source": [
        "Statistics is mainly divided into the following two categories. \n",
        "\n",
        "Descriptive Statistics\n",
        "\n",
        "Inferential Statistics\n",
        "\n",
        "\n",
        "\n",
        "Descriptive Statistics\n",
        "\n",
        "In the descriptive Statistics, the Data is described in a summarized way. The summarization is done from the sample of the population using different parameters like Mean or standard deviation. Descriptive Statistics are a way of using charts, graphs, and summary measures to organize, represent, and explain a set of Data. \n",
        "\n",
        "Data is typically arranged and displayed in tables or graphs summarizing details such as histograms, pie charts, bars or scatter plots.\n",
        "\n",
        "Descriptive Statistics are just descriptive and thus do not require normalization beyond the Data collected.\n",
        "\n",
        "\n",
        "Inferential Statistics\n",
        "\n",
        "In the Inferential Statistics, we try to interpret the Meaning of descriptive Statistics. After the Data has been collected, analyzed, and summarised we use Inferential Statistics to describe the Meaning of the collected Data. \n",
        "\n",
        "Inferential Statistics use the probability principle to assess whether trends contained in the research sample can be generalized to the larger population from which the sample originally comes.\n",
        "\n",
        "Inferential Statistics are intended to test hypotheses and investigate relationships between variables and can be used to make population predictions.\n",
        "\n",
        "Inferential Statistics are used to draw conclusions and inferences, i.e., to make valid generalizations from samples.\n",
        "\n",
        "\n"
      ],
      "metadata": {
        "id": "BtL9Ke2RveqH"
      }
    },
    {
      "cell_type": "markdown",
      "source": [
        "Numerical Data: Numerical data represents quantitative measurements or counts. It can be further categorized into two types:\n",
        "\n",
        "Continuous Data: Continuous data can take any value within a certain range. Examples include temperature readings (e.g., 25.5°C), stock prices, or height measurements.\n",
        "Discrete Data: Discrete data can only take specific, separate values. Examples include the number of students in a class (e.g., 30), the number of cars in a parking lot, or the number of items sold.\n",
        "Categorical Data: Categorical data represents qualities or characteristics that fall into specific categories or groups.\n",
        "\n",
        "Nominal Data: Nominal data has categories without any inherent order or ranking. Examples include gender (male/female), colors (red/blue/green), or types of animals (cat/dog/bird).\n",
        "Ordinal Data: Ordinal data has categories with a specific order or ranking. Examples include educational levels (elementary/middle/high school/college), customer satisfaction ratings (low/medium/high), or movie ratings (1 star/2 stars/3 stars/4 stars/5 stars)."
      ],
      "metadata": {
        "id": "8jJs_Eu9vete"
      }
    },
    {
      "cell_type": "markdown",
      "source": [
        "(i) Grading in exam: A+, A, B+, B, C+, C, D, E - Qualitative (Categorical) (ii) Colour of mangoes: yellow, green, orange, red - Qualitative (Categorical) (iii) Height data of a class: [178.9, 179, 179.5, 176, 177.2, 178.3, 175.8,…] - Quantitative (Continuous) (iv) Number of mangoes exported by a farm: [500, 600, 478, 672,…] - Quantitative (Discrete)"
      ],
      "metadata": {
        "id": "VnsX7sP6w25y"
      }
    },
    {
      "cell_type": "markdown",
      "source": [
        "Levels of measurement, also called scales of measurement, tell you how precisely variables are recorded. In scientific research, a variable is anything that can take on different values across your data set (e.g., height or test scores). There are 4 levels of measurement: Nominal, Ordinal, Interval and Ratio1.\n",
        "\n",
        "Nominal: the data can only be categorized. For example, city of birth, gender, ethnicity, car brands and marital status1.\n",
        "Ordinal: the data can be categorized and ranked. For example, top 5 Olympic medallists, language ability (e.g., beginner, intermediate, fluent) and Likert-type questions (e.g., very dissatisfied to very satisfied)1.\n",
        "Interval: the data can be categorized, ranked and evenly spaced. For example, test scores (e.g., IQ or exams), personality inventories and temperature in Fahrenheit or Celsius1.\n",
        "Ratio: the data can be categorized, ranked, evenly spaced and has a natural zero. For example, height, weight and age1."
      ],
      "metadata": {
        "id": "ELc5dB3z66l-"
      }
    },
    {
      "cell_type": "markdown",
      "source": [
        "The level of measurement of a variable determines how you can analyze your data. Depending on the level of measurement, you can perform different descriptive statistics to get an overall summary of your data and inferential statistics to see if your results support or refute your hypothesis1. It affects both the nature and the depth of insights you’re able to glean from your data2.\n",
        "\n",
        "For example, if you have a variable that is measured at the nominal level, such as gender, you can calculate the frequency and mode of the data. However, it would not make sense to calculate the mean or standard deviation of this data because it is not numerical. On the other hand, if you have a variable that is measured at the ratio level, such as height, you can calculate the mean, median, mode, range, variance and standard deviation."
      ],
      "metadata": {
        "id": "ORbHeusX66pW"
      }
    },
    {
      "cell_type": "markdown",
      "source": [
        "Nominal and ordinal data types are both qualitative data types. The main difference between them is that nominal data can only be categorized, while ordinal data can be categorized and ranked.\n",
        "\n",
        "Nominal data is data that can be placed into categories, but the categories do not have any order or structure. For example, gender (male or female), ethnicity (Asian, African American, Caucasian, etc.), and marital status (single, married, divorced) are all examples of nominal data.\n",
        "\n",
        "On the other hand, ordinal data is data that can be placed into categories that have a specific order or ranking. For example, star ratings (1 star to 5 stars), education level (high school, college, graduate school), and socioeconomic status (low income, middle income, high income) are all examples of ordinal data."
      ],
      "metadata": {
        "id": "JrTjV2c766se"
      }
    },
    {
      "cell_type": "markdown",
      "source": [
        "A box and whisker plot, also called a box plot, is a type of plot that can be used to display data in terms of range. It is one of the types of graphical methods which displays the variation of the data in the dataset1. Box plots are mostly used for data interpretation and are useful for comparing the distribution of data between different groups.\n",
        "\n",
        "A box plot displays the five-number summary of a dataset: the minimum, first quartile (Q1), median (Q2), third quartile (Q3), and maximum. The box represents the interquartile range (IQR) which contains 50% of the data and is defined as the range between Q1 and Q3. The whiskers extend from the box to the smallest and largest observations that are within 1.5 times the IQR. Any observations outside this range are plotted as individual points and are considered outliers.\n",
        "\n"
      ],
      "metadata": {
        "id": "zpXqxpFp66v2"
      }
    },
    {
      "cell_type": "markdown",
      "source": [
        "Descriptive statistics and inferential statistics are two main branches in the field of statistics. Descriptive statistics aims to describe a chunk of raw data using summary statistics, graphs, and tables. It allows you to understand a group of data much more quickly and easily compared to just staring at rows and rows of raw data values1. Inferential statistics, on the other hand, allow you to test a hypothesis or assess whether your data is generalizable to the broader population2.\n",
        "\n",
        "An example of descriptive statistics would be calculating the mean, median and mode of a dataset, creating a histogram to visualize the distribution of data or creating a frequency table to understand how data is distributed. For instance, suppose we have a set of raw data that shows the test scores of 1,000 students at a particular school. Using descriptive statistics, we could find the average score and create a graph that helps us visualize the distribution of scores. This allows us to understand the test scores of the students much more easily compared to just staring at the raw data1.\n",
        "\n",
        "An example of inferential statistics would be using a sample of data to make predictions or generalizations about a larger population. For instance, if we have a sample of 100 people from a city and we find that 60% of them prefer brand A over brand B, we can use inferential statistics to make an inference that in the entire city, approximately 60% of people prefer brand A over brand B."
      ],
      "metadata": {
        "id": "3B39syAD66zP"
      }
    },
    {
      "cell_type": "markdown",
      "source": [
        "Measures of central tendency and variability are two statistics that are necessary for representing a frequency distribution of data. Measures of central tendency are numbers expressing the most typical or representative scores in a data distribution. Measures of variability are numbers representing the extent to which scores are dispersed or spread out numerically1.\n",
        "\n",
        "The three most common measures of central tendency are the mode, median, and mean. The mode is the most frequent value in a dataset. The median is the middle number in an ordered dataset. The mean is calculated by summing all values and dividing by the total number of values2.\n",
        "\n",
        "Measures of variability include range, interquartile range (IQR), variance and standard deviation. Range is the difference between the highest and lowest values in a dataset. IQR is the range of the middle half of a distribution. Variance is the average of squared distances from the mean. Standard deviation is the average distance from the mean3.\n",
        "\n",
        "Together, measures of central tendency and variability give you a complete picture of your data. While measures of central tendency tell you where most of your data points lie, measures of variability summarize how far apart your points are from each other1.\n",
        "\n"
      ],
      "metadata": {
        "id": "A2qS_kAD9GFh"
      }
    }
  ]
}