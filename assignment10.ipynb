{
  "nbformat": 4,
  "nbformat_minor": 0,
  "metadata": {
    "colab": {
      "provenance": []
    },
    "kernelspec": {
      "name": "python3",
      "display_name": "Python 3"
    },
    "language_info": {
      "name": "python"
    }
  },
  "cells": [
    {
      "cell_type": "markdown",
      "source": [
        "APIs are used in web applications to connect user-facing front ends with critical back-end functionality and data. APIs are used to deliver material by streaming services such as Spotify and Netflix. APIs are used by automakers such as Tesla to provide software upgrades.\n"
      ],
      "metadata": {
        "id": "96UO8Og3in3e"
      }
    },
    {
      "cell_type": "markdown",
      "source": [
        "The main advantage of providing an API is that it allows your users to do more with your product or service (i.e. it increases the value of your product). This typically takes one of two forms -\n",
        "\n",
        "an integration. An example of an integration is to push notifications from your product (such as CRM, Helpdesk) to a messaging tool such as Slack. In this way, if your customer uses Slack they can receive notifications without having to login directly to your system or check emails.\n",
        "new functionality. In the early days of Twitter, some of the most popular Twitter clients were produced by third parties using the Twitter API. Twitter and its users benefited from the new functionality that was undertaken by other companies.\n",
        "\n",
        "The disadvantages to providing an API are,\n",
        "\n",
        "Cost. Providing an API is expensive in terms of development time, ongoing maintenance, providing API documentation on your website and providing support to users of your API.\n",
        "Security exposure. Adding an API adds another attack surface to your website.\n",
        "You might not like the result or you may change business direction. It's not always easy to predict exactly how your API will be used. If your integration with a messaging system means that users login to your service less often, will there be an overall negative impact for you? Withdrawing an API can be painful for users if you decide that you need to do so. This is unusual but it can happen. As Twitter's business evolved it changed its rules for accessing its API which resulted in a number of problems for users and developers "
      ],
      "metadata": {
        "id": "2Y9lUp6kiwV4"
      }
    },
    {
      "cell_type": "markdown",
      "source": [
        "A Web API stands for Application Programming Interface. It is a software application that allows two different applications or machines to interact with each other without any user interference. The API contains a complete set of rules and specifications used when interacting with any web application.\n",
        "\n",
        "web api is a subset of API."
      ],
      "metadata": {
        "id": "uIRmqGNcjCgG"
      }
    },
    {
      "cell_type": "markdown",
      "source": [
        "SOAP stands for Simple Object Access Protocol, defined by the W3C standard that allows communication between two applications. It uses XML data as a SOAP message to transfer over the network. In addition, each message contains an XML document containing data that needs to be transferred for communication between the client and the server.\n",
        "\n",
        "\n",
        "\n",
        "REST stands for Representational state transfer is a lightweight software architecture that uses HTTP protocol and constraints to create web API for web-based applications. The REST service is primarily used to create connections between users and web services to exchange data and functionality through the Uniform Resource Identifier (URI).\n",
        "\n"
      ],
      "metadata": {
        "id": "bSiAuXRFjbv8"
      }
    },
    {
      "cell_type": "markdown",
      "source": [
        "SOAP and REST both allow you to create your own API, or Application Programming Interface. An API makes it possible to transfer data from an application to other applications, receiving requests and sending back responses through internet protocols such as HTTP, SMTP, and others.\n",
        "\n",
        "Many popular websites provide public APIs for their users; for example, Google Maps has a public REST API that lets you customize Maps with your own content. There are also many APIs that have been created privately by companies for internal use. (If you’re new to structuring an API, start with our best practices for building a user-friendly API).\n",
        "\n",
        "SOAP and REST are two different API guidelines that approach the question of data transmission from differing points of view. REST was created to address the problems of SOAP.\n",
        "\n",
        "SOAP is a standardized protocol that sends messages using other protocols such as HTTP and SMTP. The SOAP specifications are official web standards, maintained and developed by the World Wide Web Consortium (W3C). As opposed to SOAP, REST is not a protocol but an architectural style. The REST architecture lays down a set of API guidelines to follow in order to provide a RESTful web service, for example, stateless existence and the use of HTTP status codes.\n",
        "\n",
        "As SOAP is an official protocol, it comes with strict rules and advanced security features such as built-in ACID (Atomicity, Consistency, Isolation, Durability) compliance and authorization. Higher complexity requires more bandwidth and resources which can lead to slower page load times.\n",
        "\n",
        "REST was created as an alternative to the restrictions and limitations of SOAP, and therefore has a more flexible architecture. It consists of only loose guidelines and lets developers implement the recommendations in their own way. It allows different messaging formats, such as HTML, JSON, XML, and plain text, while SOAP only allows XML. REST is also a more lightweight architecture, so RESTful web services have better performance. Because of that, it’s become popular in the mobile era where even a few seconds really matter (both in page load time and revenue).\n",
        "\n"
      ],
      "metadata": {
        "id": "l8c5LyWWkLxG"
      }
    }
  ]
}