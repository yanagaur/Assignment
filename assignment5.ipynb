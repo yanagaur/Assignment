{
  "nbformat": 4,
  "nbformat_minor": 0,
  "metadata": {
    "colab": {
      "provenance": []
    },
    "kernelspec": {
      "name": "python3",
      "display_name": "Python 3"
    },
    "language_info": {
      "name": "python"
    }
  },
  "cells": [
    {
      "cell_type": "code",
      "execution_count": null,
      "metadata": {
        "colab": {
          "base_uri": "https://localhost:8080/"
        },
        "id": "x3fNubpMSx12",
        "outputId": "8501b110-8524-4ae5-8bb8-9df8385f3c9a"
      },
      "outputs": [
        {
          "output_type": "stream",
          "name": "stdout",
          "text": [
            "[('Virat Kohli', 24936), ('Jack Kallis', 25534), ('Ricky Ponting', 27483), ('Sachin Tendulkar', 34357)]\n"
          ]
        }
      ],
      "source": [
        "runs=[('Sachin Tendulkar', 34357), ('Ricky Ponting', 27483), ('Jack Kallis', 25534), ('Virat Kohli', 24936)]\n",
        "runs.sort(key = lambda x: x[1])\n",
        "print(runs)\n"
      ]
    },
    {
      "cell_type": "code",
      "source": [
        "nums = [1, 2, 3, 4, 5, 6, 7, 8, 9, 10]\n",
        "print(\"Original list of integers:\")\n",
        "print(nums)\n",
        "print(\"\\nSquare every number of the said list:\")\n",
        "square_nums = list(map(lambda x: x ** 2, nums))\n",
        "print(square_nums)"
      ],
      "metadata": {
        "colab": {
          "base_uri": "https://localhost:8080/"
        },
        "id": "s3pnR3tOTv86",
        "outputId": "1ec6f9be-1b04-43fc-e0b6-441a7c5d49b2"
      },
      "execution_count": null,
      "outputs": [
        {
          "output_type": "stream",
          "name": "stdout",
          "text": [
            "Original list of integers:\n",
            "[1, 2, 3, 4, 5, 6, 7, 8, 9, 10]\n",
            "\n",
            "Square every number of the said list:\n",
            "[1, 4, 9, 16, 25, 36, 49, 64, 81, 100]\n"
          ]
        }
      ]
    },
    {
      "cell_type": "code",
      "source": [
        "s = [1,2,3,4,5,6,7,8,9,10]\n",
        " \n",
        "# using list comprehension\n",
        "listToStr = ','.join(map(str, s))\n",
        " \n",
        "print(listToStr)\n",
        "res = eval(listToStr)\n",
        "print((res))\n"
      ],
      "metadata": {
        "colab": {
          "base_uri": "https://localhost:8080/"
        },
        "id": "K0hEVVKFg_Tl",
        "outputId": "31dcd195-e60b-48f1-c763-7ce675173594"
      },
      "execution_count": 22,
      "outputs": [
        {
          "output_type": "stream",
          "name": "stdout",
          "text": [
            "1,2,3,4,5,6,7,8,9,10\n",
            "(1, 2, 3, 4, 5, 6, 7, 8, 9, 10)\n"
          ]
        }
      ]
    },
    {
      "cell_type": "code",
      "source": [
        "import functools\n",
        "def createList(r1, r2):\n",
        "    return [item for item in range(r1, r2+1)]\n",
        "lis=createList(1,26)\n",
        "print(functools.reduce(lambda a, b: a*b, lis))"
      ],
      "metadata": {
        "colab": {
          "base_uri": "https://localhost:8080/"
        },
        "id": "2LoK5trum4WX",
        "outputId": "b0b557d6-3a61-4e14-8462-bd810043b127"
      },
      "execution_count": 24,
      "outputs": [
        {
          "output_type": "stream",
          "name": "stdout",
          "text": [
            "403291461126605635584000000\n"
          ]
        }
      ]
    },
    {
      "cell_type": "code",
      "source": [
        "num_list=[2, 3, 6, 9, 27, 60, 90, 120, 55, 46]\n",
        "result = list(filter(lambda x: (x % 2 == 0)and(x % 3==0), num_list))\n",
        "print(result)"
      ],
      "metadata": {
        "colab": {
          "base_uri": "https://localhost:8080/"
        },
        "id": "_F3lEtwFnj09",
        "outputId": "4c7e83e6-89fb-4d6f-ec40-2ea781f70d5f"
      },
      "execution_count": 27,
      "outputs": [
        {
          "output_type": "stream",
          "name": "stdout",
          "text": [
            "[6, 60, 90, 120]\n"
          ]
        }
      ]
    },
    {
      "cell_type": "code",
      "source": [
        "texts = ['python', 'php', 'aba', 'radar', 'level']\n",
        "print(\"Orginal list of strings:\")\n",
        "print(texts) \n",
        "result = list(filter(lambda x: (x == \"\".join(reversed(x))), texts)) \n",
        "print(\"\\nList of palindromes:\")\n",
        "print(result) "
      ],
      "metadata": {
        "colab": {
          "base_uri": "https://localhost:8080/"
        },
        "id": "wvAhrqshn5KW",
        "outputId": "8097c06b-3ac5-4b81-a70c-c6f9580d2071"
      },
      "execution_count": 28,
      "outputs": [
        {
          "output_type": "stream",
          "name": "stdout",
          "text": [
            "Orginal list of strings:\n",
            "['python', 'php', 'aba', 'radar', 'level']\n",
            "\n",
            "List of palindromes:\n",
            "['php', 'aba', 'radar', 'level']\n"
          ]
        }
      ]
    }
  ]
}