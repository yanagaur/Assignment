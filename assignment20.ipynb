{
  "nbformat": 4,
  "nbformat_minor": 0,
  "metadata": {
    "colab": {
      "provenance": []
    },
    "kernelspec": {
      "name": "python3",
      "display_name": "Python 3"
    },
    "language_info": {
      "name": "python"
    }
  },
  "cells": [
    {
      "cell_type": "code",
      "execution_count": 4,
      "metadata": {
        "id": "kw8LXMNgzcV7"
      },
      "outputs": [],
      "source": [
        "from bokeh.plotting import figure , output_file, show\n",
        "from bokeh.sampledata.iris import flowers\n",
        "output_file('test.html')\n",
        "p=figure(title=\"test flower\")\n",
        "p.xaxis.axis_label=\"petal length\"\n",
        "p.yaxis.axis_label=\"petal width\"\n",
        "p.line(flowers['petal_length'],flowers['petal_width'])\n",
        "show(p)"
      ]
    },
    {
      "cell_type": "markdown",
      "source": [
        "can be used to enhance the visualization by providing additional information or patterns. Bokeh provides a variety of glyphs, including circles, squares, lines, bars, and more.\n",
        "\n",
        "To add glyphs to a Bokeh plot, you typically create a glyph object and then add it to a plot using the add_glyph() method of the appropriate renderer. The renderer specifies the type of glyph and how it should be visualized, such as its color, size, and alpha (transparency)."
      ],
      "metadata": {
        "id": "3EVXActJzt2S"
      }
    },
    {
      "cell_type": "code",
      "source": [
        "from bokeh.plotting import figure , output_file, show\n",
        "from bokeh.sampledata.iris import flowers\n",
        "output_file('test.html')\n",
        "p=figure(title=\"test flower\")\n",
        "p.xaxis.axis_label=\"petal length\"\n",
        "p.yaxis.axis_label=\"petal width\"\n",
        "p.circle(flowers['petal_length'],flowers['petal_width'])\n",
        "show(p)"
      ],
      "metadata": {
        "id": "jOH2PJtKzxCu"
      },
      "execution_count": 5,
      "outputs": []
    },
    {
      "cell_type": "code",
      "source": [
        "x=[2,3,4,5,6]\n",
        "y=[3,4,5,6,7]\n",
        "output_file(\"test.html\")\n",
        "p=figure(title=\"line plot\")\n",
        "p.scatter(x,y,fill_color='red',legend_label='red points',size=20)\n",
        "show(p)"
      ],
      "metadata": {
        "id": "1bTnICAwz7WY"
      },
      "execution_count": 6,
      "outputs": []
    },
    {
      "cell_type": "markdown",
      "source": [
        "To embed a Bokeh plot into a web page or dashboard using Flask or Django, you can follow these general steps:\n",
        "\n",
        "Generate the Bokeh plot and save it as an HTML file.\n",
        "Create a Flask or Django application and configure the necessary routes or views.\n",
        "Serve the Bokeh plot HTML file within the web page or dashboard template"
      ],
      "metadata": {
        "id": "YyxQKKE-0JuS"
      }
    }
  ]
}