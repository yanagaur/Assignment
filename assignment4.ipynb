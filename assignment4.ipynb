{
  "nbformat": 4,
  "nbformat_minor": 0,
  "metadata": {
    "colab": {
      "provenance": []
    },
    "kernelspec": {
      "name": "python3",
      "display_name": "Python 3"
    },
    "language_info": {
      "name": "python"
    }
  },
  "cells": [
    {
      "cell_type": "markdown",
      "source": [
        "Def keyword is used to create function."
      ],
      "metadata": {
        "id": "ugRd1SGBitmL"
      }
    },
    {
      "cell_type": "code",
      "source": [
        "def oddnumbers(n):\n",
        "  l=[]\n",
        "  for i in range(n):\n",
        "    if i%2!=0:\n",
        "      l.append(i)\n",
        "  return l\n",
        "      \n"
      ],
      "metadata": {
        "id": "X-gGA2-FjHHS"
      },
      "execution_count": 7,
      "outputs": []
    },
    {
      "cell_type": "code",
      "source": [
        "x=oddnumbers(25)\n",
        "x"
      ],
      "metadata": {
        "colab": {
          "base_uri": "https://localhost:8080/"
        },
        "id": "h354QPbDlN3J",
        "outputId": "031d3811-f5a6-48c5-ccd0-5328d4b73e20"
      },
      "execution_count": 8,
      "outputs": [
        {
          "output_type": "execute_result",
          "data": {
            "text/plain": [
              "[1, 3, 5, 7, 9, 11, 13, 15, 17, 19, 21, 23]"
            ]
          },
          "metadata": {},
          "execution_count": 8
        }
      ]
    },
    {
      "cell_type": "markdown",
      "source": [
        "*args allow us to pass the variable number of non keyword arguments to function.\n",
        "In the function, we should use an asterisk * before the parameter name to pass variable length arguments.The arguments are passed as a tuple and these passed arguments make tuple inside the function with same name as the parameter\n",
        "\n",
        "\n",
        "\n",
        "**kwargs, allows us to pass the variable length of keyword arguments to the function.\n",
        "In the function, we use the double asterisk ** before the parameter name to denote this type of argument. The arguments are passed as a dictionary and these arguments make a dictionary inside function with name same as the parameter "
      ],
      "metadata": {
        "id": "vF9TWv1yqCyW"
      }
    },
    {
      "cell_type": "code",
      "source": [
        "def adder(*num):\n",
        "    sum = 0\n",
        "    \n",
        "    for n in num:\n",
        "        sum = sum + n\n",
        "\n",
        "    print(\"Sum:\",sum)\n",
        "\n",
        "adder(3,5)"
      ],
      "metadata": {
        "colab": {
          "base_uri": "https://localhost:8080/"
        },
        "id": "pjTfCJewqBei",
        "outputId": "3e0ec121-4170-4155-ed8b-c2dde57168b2"
      },
      "execution_count": 10,
      "outputs": [
        {
          "output_type": "stream",
          "name": "stdout",
          "text": [
            "Sum: 8\n"
          ]
        }
      ]
    },
    {
      "cell_type": "code",
      "source": [
        "def intro(**data):\n",
        "    print(\"\\nData type of argument:\",type(data))\n",
        "\n",
        "    for key, value in data.items():\n",
        "        print(\"{} is {}\".format(key,value))\n",
        "intro(Firstname=\"Sita\", Lastname=\"Sharma\", Age=22, Phone=1234567890)"
      ],
      "metadata": {
        "colab": {
          "base_uri": "https://localhost:8080/"
        },
        "id": "I5rEoXCkpXpx",
        "outputId": "909db085-1473-4a8b-ddef-fbe587fff416"
      },
      "execution_count": 9,
      "outputs": [
        {
          "output_type": "stream",
          "name": "stdout",
          "text": [
            "\n",
            "Data type of argument: <class 'dict'>\n",
            "Firstname is Sita\n",
            "Lastname is Sharma\n",
            "Age is 22\n",
            "Phone is 1234567890\n"
          ]
        }
      ]
    },
    {
      "cell_type": "markdown",
      "source": [
        "iterator in Python is an object that is used to iterate over iterable objects like lists, tuples, dicts, and sets. The iterator object is initialized using the iter() method. It uses the next() method for iteration."
      ],
      "metadata": {
        "id": "S1_HFCqlqoNZ"
      }
    },
    {
      "cell_type": "code",
      "source": [
        "list= [2, 4, 6, 8, 10, 12, 14,16, 18, 20]\n",
        "l=iter(list)\n",
        "print(next(l))\n",
        "print(next(l))\n",
        "print(next(l))\n",
        "print(next(l))\n",
        "print(next(l))"
      ],
      "metadata": {
        "colab": {
          "base_uri": "https://localhost:8080/"
        },
        "id": "BJS1l1jlquj9",
        "outputId": "294abd67-c62e-4de1-db77-f886d055e7e2"
      },
      "execution_count": 12,
      "outputs": [
        {
          "output_type": "stream",
          "name": "stdout",
          "text": [
            "2\n",
            "4\n",
            "6\n",
            "8\n",
            "10\n"
          ]
        }
      ]
    },
    {
      "cell_type": "markdown",
      "source": [
        "generators allow you to handle large datasets with minimal consumption of memory and processing cycles.\n",
        "The yield keyword in Python controls the flow of a generator function"
      ],
      "metadata": {
        "id": "rhswl_CPrZ6c"
      }
    },
    {
      "cell_type": "code",
      "source": [
        "def fancy_generator():\n",
        "     my_list = [1, 2, 3]\n",
        "     for i in my_list:\n",
        "             yield i * 2\n",
        "\n",
        "mygen = fancy_generator()\n",
        "print(mygen)\n",
        "next(mygen)"
      ],
      "metadata": {
        "colab": {
          "base_uri": "https://localhost:8080/"
        },
        "id": "_JIuASFBrgV9",
        "outputId": "09727b5b-7b1d-4563-c1a5-5691ee68ea10"
      },
      "execution_count": 13,
      "outputs": [
        {
          "output_type": "stream",
          "name": "stdout",
          "text": [
            "<generator object fancy_generator at 0x7f910acef4a0>\n"
          ]
        },
        {
          "output_type": "execute_result",
          "data": {
            "text/plain": [
              "2"
            ]
          },
          "metadata": {},
          "execution_count": 13
        }
      ]
    },
    {
      "cell_type": "code",
      "source": [
        "def primenum(num, val):\n",
        "    primes = []\n",
        "    for i in range(2, num):\n",
        "        for j in range(2, int(i / 2) + 1):\n",
        "            if i % j == 0:\n",
        "                break\n",
        "        else:\n",
        "            primes.append(i)\n",
        "        \n",
        "    for i in range(1 - val, len(primes), 2):\n",
        "        yield primes[i]"
      ],
      "metadata": {
        "id": "gDgZO9gor6ln"
      },
      "execution_count": 17,
      "outputs": []
    },
    {
      "cell_type": "code",
      "source": [
        "n = int(input())\n",
        "a = 0\n",
        "b = 1\n",
        "sum = 0\n",
        "count = 1\n",
        "print(\"Fibonacci series is: \", end = \" \")\n",
        "while(count <= n):\n",
        "  count += 1\n",
        "  print(a, end=\" \")\n",
        "  a = b\n",
        "  b = sum\n",
        "  sum = a + b\n",
        "  "
      ],
      "metadata": {
        "colab": {
          "base_uri": "https://localhost:8080/"
        },
        "id": "rIonxF93utpn",
        "outputId": "84cdcc01-c3af-40af-d60a-17121b00db8f"
      },
      "execution_count": 18,
      "outputs": [
        {
          "output_type": "stream",
          "name": "stdout",
          "text": [
            "10\n",
            "Fibonacci series is:  0 1 0 1 1 2 3 5 8 13 "
          ]
        }
      ]
    },
    {
      "cell_type": "code",
      "source": [
        "List = [character for character in \"pwskills\"]\n",
        "print(List)"
      ],
      "metadata": {
        "colab": {
          "base_uri": "https://localhost:8080/"
        },
        "id": "02MI5mUGuyhk",
        "outputId": "d5f256e1-9e46-45b7-a9a5-b7e486d769db"
      },
      "execution_count": 20,
      "outputs": [
        {
          "output_type": "stream",
          "name": "stdout",
          "text": [
            "['p', 'w', 's', 'k', 'i', 'l', 'l', 's']\n"
          ]
        }
      ]
    },
    {
      "cell_type": "code",
      "source": [
        "num=int(input(\"Enter a number:\"))\n",
        "temp=num\n",
        "rev=0\n",
        "while(num>0):\n",
        "    dig=num%10\n",
        "    rev=rev*10+dig\n",
        "    num=num//10\n",
        "if(temp==rev):\n",
        "    print(\"The number is palindrome!\")\n",
        "else:\n",
        "    print(\"Not a palindrome!\")"
      ],
      "metadata": {
        "colab": {
          "base_uri": "https://localhost:8080/"
        },
        "id": "OIO1MY1kvNwV",
        "outputId": "a3f839ca-0d9e-43d5-9eb2-16dd1c7369c6"
      },
      "execution_count": 21,
      "outputs": [
        {
          "output_type": "stream",
          "name": "stdout",
          "text": [
            "Enter a number:131\n",
            "The number is palindrome!\n"
          ]
        }
      ]
    },
    {
      "cell_type": "code",
      "source": [
        "odd_list = [element for element in range(1, 101) if element % 2 == 1 ]\n",
        "print(odd_list)"
      ],
      "metadata": {
        "colab": {
          "base_uri": "https://localhost:8080/"
        },
        "id": "oDsgFDKnvcGO",
        "outputId": "99dd3e9f-bd61-45fa-a433-465492683b27"
      },
      "execution_count": 29,
      "outputs": [
        {
          "output_type": "stream",
          "name": "stdout",
          "text": [
            "[1, 3, 5, 7, 9, 11, 13, 15, 17, 19, 21, 23, 25, 27, 29, 31, 33, 35, 37, 39, 41, 43, 45, 47, 49, 51, 53, 55, 57, 59, 61, 63, 65, 67, 69, 71, 73, 75, 77, 79, 81, 83, 85, 87, 89, 91, 93, 95, 97, 99]\n"
          ]
        }
      ]
    }
  ]
}