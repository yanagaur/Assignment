{
  "nbformat": 4,
  "nbformat_minor": 0,
  "metadata": {
    "colab": {
      "provenance": []
    },
    "kernelspec": {
      "name": "python3",
      "display_name": "Python 3"
    },
    "language_info": {
      "name": "python"
    }
  },
  "cells": [
    {
      "cell_type": "code",
      "execution_count": 1,
      "metadata": {
        "colab": {
          "base_uri": "https://localhost:8080/"
        },
        "id": "FfLSG6c0oGg2",
        "outputId": "c21fa236-bf92-4de8-b131-0a293f27ff48"
      },
      "outputs": [
        {
          "output_type": "stream",
          "name": "stdout",
          "text": [
            "enter the marks49\n",
            "E\n"
          ]
        }
      ],
      "source": [
        "a=int(input(\"enter the marks\"))\n",
        "if(a>90):\n",
        "  print(\"A\")\n",
        "if(80<a<=90):\n",
        "  print(\"B\")\n",
        "if(70<a<=80):\n",
        "  print(\"C\")\n",
        "if(60<=a<=80):\n",
        "  print(\"D\")\n",
        "if(60>a):\n",
        "  print(\"E\")\n"
      ]
    },
    {
      "cell_type": "code",
      "source": [
        "price=int(input(\"enter the price\"))\n",
        "if(price>100000):\n",
        "  tax=0.15\n",
        "if (50000<price<=100000):\n",
        "  tax=0.10\n",
        "if (price>=50000):\n",
        "  tax=0.05\n",
        "road_tax=price*tax\n",
        "print(road_tax)"
      ],
      "metadata": {
        "colab": {
          "base_uri": "https://localhost:8080/"
        },
        "id": "zpmxIZuCpyTe",
        "outputId": "224d7e92-0a84-480f-f9a8-f0aef50cb66c"
      },
      "execution_count": 2,
      "outputs": [
        {
          "output_type": "stream",
          "name": "stdout",
          "text": [
            "enter the price450000\n",
            "22500.0\n"
          ]
        }
      ]
    },
    {
      "cell_type": "code",
      "source": [
        "a=input(\"enter the city\")\n",
        "if(a==\"delhi\"):\n",
        "  print(\"Red Fort\")\n",
        "if(a==\"Agra\"):\n",
        "  print(\"Taj Mahal\")\n",
        "if(a==\"Jaipur\"):\n",
        "  print(\"Jal Mahal\")"
      ],
      "metadata": {
        "colab": {
          "base_uri": "https://localhost:8080/"
        },
        "id": "YpzADpZArJJ3",
        "outputId": "81744585-a842-497b-acc3-8f1385168cb1"
      },
      "execution_count": 3,
      "outputs": [
        {
          "output_type": "stream",
          "name": "stdout",
          "text": [
            "enter the citydelhi\n",
            "Red Fort\n"
          ]
        }
      ]
    },
    {
      "cell_type": "code",
      "source": [
        "n=int(input(\"enter the number\"))\n",
        "count=0;\n",
        "while(n>10):\n",
        "  n=n/3\n",
        "  count=count+1\n",
        "print(count)\n",
        "\n"
      ],
      "metadata": {
        "colab": {
          "base_uri": "https://localhost:8080/"
        },
        "id": "nK6nXIBjruRI",
        "outputId": "d41c60dd-ef31-4136-89e8-b6d47ade6462"
      },
      "execution_count": 8,
      "outputs": [
        {
          "output_type": "stream",
          "name": "stdout",
          "text": [
            "enter the number99\n",
            "3\n"
          ]
        }
      ]
    },
    {
      "cell_type": "markdown",
      "source": [
        "A \"While\" Loop is used to repeat a specific block of code an unknown number of times, until a condition is met."
      ],
      "metadata": {
        "id": "Jd_K8gZRw9li"
      }
    },
    {
      "cell_type": "code",
      "source": [
        "i=1\n",
        "while i<=5:\n",
        "  j=1\n",
        "  while j<=i:\n",
        "    print(\"*\",end=\" \")\n",
        "    j+=1\n",
        "  print()\n",
        "  i+=1\n"
      ],
      "metadata": {
        "colab": {
          "base_uri": "https://localhost:8080/"
        },
        "id": "ZSh39x8XvMML",
        "outputId": "3eddb08c-b650-4c2b-b574-07fe969318a3"
      },
      "execution_count": 15,
      "outputs": [
        {
          "output_type": "stream",
          "name": "stdout",
          "text": [
            "* \n",
            "* * \n",
            "* * * \n",
            "* * * * \n",
            "* * * * * \n"
          ]
        }
      ]
    },
    {
      "cell_type": "code",
      "source": [
        "i = 1\n",
        "while i <= 5 :\n",
        "    j = 5\n",
        "    while j >= i:\n",
        "        print(\"*\", end = \" \")\n",
        "        j -= 1\n",
        "    print()\n",
        "    i += 1"
      ],
      "metadata": {
        "colab": {
          "base_uri": "https://localhost:8080/"
        },
        "id": "ahjlQig-w_JC",
        "outputId": "3d42758b-af97-4eb9-f568-a9e78e30575c"
      },
      "execution_count": 16,
      "outputs": [
        {
          "output_type": "stream",
          "name": "stdout",
          "text": [
            "* * * * * \n",
            "* * * * \n",
            "* * * \n",
            "* * \n",
            "* \n"
          ]
        }
      ]
    },
    {
      "cell_type": "code",
      "source": [
        "k = 1\n",
        "i = 1\n",
        "while i <= n :\n",
        "    j = 1\n",
        "    while j <= i:\n",
        "        print(\"{:3d}\".format(k), end = \" \")\n",
        "        j += 1\n",
        "        k += 1\n",
        "    print()\n",
        "    i += 1"
      ],
      "metadata": {
        "colab": {
          "base_uri": "https://localhost:8080/"
        },
        "id": "vklRtimGxJj_",
        "outputId": "c24dbc54-019d-4876-acd5-4e3f0ed0e731"
      },
      "execution_count": 17,
      "outputs": [
        {
          "output_type": "stream",
          "name": "stdout",
          "text": [
            "  1 \n",
            "  2   3 \n",
            "  4   5   6 \n"
          ]
        }
      ]
    },
    {
      "cell_type": "code",
      "source": [
        "i=10;\n",
        "while i>=1:\n",
        "  print(i)\n",
        "  i-=1"
      ],
      "metadata": {
        "colab": {
          "base_uri": "https://localhost:8080/"
        },
        "id": "U6I9FHUQxMrc",
        "outputId": "6bd7b7f3-7123-4d01-e8ea-94edfe9e2a3f"
      },
      "execution_count": 19,
      "outputs": [
        {
          "output_type": "stream",
          "name": "stdout",
          "text": [
            "10\n",
            "9\n",
            "8\n",
            "7\n",
            "6\n",
            "5\n",
            "4\n",
            "3\n",
            "2\n",
            "1\n"
          ]
        }
      ]
    }
  ]
}