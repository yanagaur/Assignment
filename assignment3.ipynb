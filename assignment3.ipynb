{
  "nbformat": 4,
  "nbformat_minor": 0,
  "metadata": {
    "colab": {
      "provenance": []
    },
    "kernelspec": {
      "name": "python3",
      "display_name": "Python 3"
    },
    "language_info": {
      "name": "python"
    }
  },
  "cells": [
    {
      "cell_type": "markdown",
      "source": [
        "**For loop is used when the number of iterations is already known. While loop is used when the number of iterations is already Unknown**"
      ],
      "metadata": {
        "id": "FDy8koj71Sp5"
      }
    },
    {
      "cell_type": "code",
      "source": [
        "sum=0;\n",
        "for i in range(11):\n",
        "  sum=sum+i\n",
        "print(sum) "
      ],
      "metadata": {
        "colab": {
          "base_uri": "https://localhost:8080/"
        },
        "id": "z_sRyDOU1VAK",
        "outputId": "9af6103a-5738-4fac-d350-05750d3db9b4"
      },
      "execution_count": 9,
      "outputs": [
        {
          "output_type": "stream",
          "name": "stdout",
          "text": [
            "55\n"
          ]
        }
      ]
    },
    {
      "cell_type": "code",
      "source": [
        "product=1;\n",
        "for i in range(1,11,1):\n",
        "  product=product*i\n",
        "print(product)"
      ],
      "metadata": {
        "colab": {
          "base_uri": "https://localhost:8080/"
        },
        "id": "7iuVOiP31uNt",
        "outputId": "dd82d8e8-0c64-4cff-8f20-d08b18d39368"
      },
      "execution_count": 6,
      "outputs": [
        {
          "output_type": "stream",
          "name": "stdout",
          "text": [
            "3628800\n"
          ]
        }
      ]
    },
    {
      "cell_type": "code",
      "source": [
        "sum=0\n",
        "i=1;\n",
        "while i<=10:\n",
        "  sum=sum+i\n",
        "  i+=1\n",
        "print(sum)"
      ],
      "metadata": {
        "colab": {
          "base_uri": "https://localhost:8080/"
        },
        "id": "Y2lXubxC2Fka",
        "outputId": "671055dd-2ff0-4a8c-f8fd-4c96ff0e3f37"
      },
      "execution_count": 8,
      "outputs": [
        {
          "output_type": "stream",
          "name": "stdout",
          "text": [
            "55\n"
          ]
        }
      ]
    },
    {
      "cell_type": "code",
      "source": [
        "i=1\n",
        "product=1\n",
        "while i<11:\n",
        "  product=product*i\n",
        "  i+=1\n",
        "print(product)"
      ],
      "metadata": {
        "colab": {
          "base_uri": "https://localhost:8080/"
        },
        "id": "r8nub22M3g75",
        "outputId": "469c2f29-889c-461f-a7d1-c57ab70e8f2f"
      },
      "execution_count": 10,
      "outputs": [
        {
          "output_type": "stream",
          "name": "stdout",
          "text": [
            "3628800\n"
          ]
        }
      ]
    },
    {
      "cell_type": "code",
      "source": [
        "n = 310\n",
        "sum=0\n",
        "for n in range(1,101):\n",
        "  rate=4.5\n",
        "  sum=sum+rate\n",
        "for n in range(101,201):\n",
        "  rate=6.0\n",
        "  sum=sum+rate\n",
        "\n",
        "for n in range(201,301):\n",
        "  rate=10\n",
        "  sum=sum+rate\n",
        "if(n>300):\n",
        "  x=n-300\n",
        "  z=x*20\n",
        "sum=z+sum\n",
        "\n",
        "print(sum)\n"
      ],
      "metadata": {
        "colab": {
          "base_uri": "https://localhost:8080/"
        },
        "id": "YVvpzPZM3wYc",
        "outputId": "2be12f9e-e9d8-4714-d8ca-138fa1c0b5bd"
      },
      "execution_count": 24,
      "outputs": [
        {
          "output_type": "stream",
          "name": "stdout",
          "text": [
            "2250.0\n"
          ]
        }
      ]
    },
    {
      "cell_type": "code",
      "source": [
        "l=[]\n",
        "for i in range(1,101):\n",
        "  x=pow(i,3)\n",
        "  if x%4==0 or x%5==0:\n",
        "    l.append(x)\n",
        "print(l)\n"
      ],
      "metadata": {
        "colab": {
          "base_uri": "https://localhost:8080/"
        },
        "id": "YMxffovR-FXO",
        "outputId": "79b81691-a5ee-42b9-f906-f03e28490ab5"
      },
      "execution_count": 25,
      "outputs": [
        {
          "output_type": "stream",
          "name": "stdout",
          "text": [
            "[8, 64, 125, 216, 512, 1000, 1728, 2744, 3375, 4096, 5832, 8000, 10648, 13824, 15625, 17576, 21952, 27000, 32768, 39304, 42875, 46656, 54872, 64000, 74088, 85184, 91125, 97336, 110592, 125000, 140608, 157464, 166375, 175616, 195112, 216000, 238328, 262144, 274625, 287496, 314432, 343000, 373248, 405224, 421875, 438976, 474552, 512000, 551368, 592704, 614125, 636056, 681472, 729000, 778688, 830584, 857375, 884736, 941192, 1000000]\n"
          ]
        }
      ]
    },
    {
      "cell_type": "code",
      "source": [
        "string = \"I want to become a data scientist\"\n",
        "l=[]\n",
        "for i in string:\n",
        "  if(i==\"a\" or i== \"e\" or i==\"i\" or i== \"o\" or i==\"u\" or i==\"A\" or i== \"E\" or i==\"I\" or i==\"O\" or i==\"U\"):\n",
        "    l.append(i)\n",
        "print(l)\n",
        "\n",
        "\n"
      ],
      "metadata": {
        "colab": {
          "base_uri": "https://localhost:8080/"
        },
        "id": "9m7HjSqLIm9k",
        "outputId": "d2b43ae4-8ac6-4745-ab68-7d9dfa49b4b0"
      },
      "execution_count": 31,
      "outputs": [
        {
          "output_type": "stream",
          "name": "stdout",
          "text": [
            "['I', 'a', 'o', 'e', 'o', 'e', 'a', 'a', 'a', 'i', 'e', 'i']\n"
          ]
        }
      ]
    }
  ]
}