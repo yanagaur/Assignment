{
  "nbformat": 4,
  "nbformat_minor": 0,
  "metadata": {
    "colab": {
      "provenance": []
    },
    "kernelspec": {
      "name": "python3",
      "display_name": "Python 3"
    },
    "language_info": {
      "name": "python"
    }
  },
  "cells": [
    {
      "cell_type": "code",
      "execution_count": 1,
      "metadata": {
        "id": "eYx9Moartzdk"
      },
      "outputs": [],
      "source": [
        "import pandas as pd"
      ]
    },
    {
      "cell_type": "code",
      "source": [
        "df={\"data\":[4,8,15,16,23,42]}"
      ],
      "metadata": {
        "id": "FHKB_N9luVTL"
      },
      "execution_count": 3,
      "outputs": []
    },
    {
      "cell_type": "code",
      "source": [
        "df['data']"
      ],
      "metadata": {
        "colab": {
          "base_uri": "https://localhost:8080/"
        },
        "id": "qxObN6Rquv4a",
        "outputId": "a862538a-304a-4c84-ad9d-c0c39056e307"
      },
      "execution_count": 4,
      "outputs": [
        {
          "output_type": "execute_result",
          "data": {
            "text/plain": [
              "[4, 8, 15, 16, 23, 42]"
            ]
          },
          "metadata": {},
          "execution_count": 4
        }
      ]
    },
    {
      "cell_type": "code",
      "source": [
        "x = pd.Series(['a','v','b','d','s','w','w','r','f','g'])\n",
        "print(x)"
      ],
      "metadata": {
        "colab": {
          "base_uri": "https://localhost:8080/"
        },
        "id": "-Nnxj-CuvKpb",
        "outputId": "15f92e7c-2463-4b77-d7c9-6327f5f22780"
      },
      "execution_count": 5,
      "outputs": [
        {
          "output_type": "stream",
          "name": "stdout",
          "text": [
            "0    a\n",
            "1    v\n",
            "2    b\n",
            "3    d\n",
            "4    s\n",
            "5    w\n",
            "6    w\n",
            "7    r\n",
            "8    f\n",
            "9    g\n",
            "dtype: object\n"
          ]
        }
      ]
    },
    {
      "cell_type": "code",
      "source": [
        "df={\"Name\":[\"Alice\",\"Bob\",\"Claire\"],\n",
        "    \"Age\":[25,30,27],\n",
        "    \"Gender\":[\"Female\",\"Male\",\"Female\"]}"
      ],
      "metadata": {
        "id": "W7qxhntlvxzy"
      },
      "execution_count": 6,
      "outputs": []
    },
    {
      "cell_type": "code",
      "source": [
        "df"
      ],
      "metadata": {
        "colab": {
          "base_uri": "https://localhost:8080/"
        },
        "id": "LmP9rXO4vx1-",
        "outputId": "5a3fe454-604a-495e-a132-52caf851bc78"
      },
      "execution_count": 9,
      "outputs": [
        {
          "output_type": "execute_result",
          "data": {
            "text/plain": [
              "{'Name': ['Alice', 'Bob', 'Claire'],\n",
              " 'Age': [25, 30, 27],\n",
              " 'Gender': ['Female', 'Male', 'Female']}"
            ]
          },
          "metadata": {},
          "execution_count": 9
        }
      ]
    },
    {
      "cell_type": "markdown",
      "source": [
        "Pandas Series\t\n",
        "One-dimensional\t\n",
        "Homogenous – Series elements must be of the same data type.\t\n",
        "Size-immutable – Once created, the size of a Series object cannot be changed."
      ],
      "metadata": {
        "id": "HV4OMZCTwnUp"
      }
    },
    {
      "cell_type": "markdown",
      "source": [
        "Two-dimensional\n",
        "Heterogenous – DataFrame elements can have different data types.\n",
        "Size-mutable – Elements can be dropped or added in an existing DataFrame."
      ],
      "metadata": {
        "id": "nM6CkdaYw2zA"
      }
    },
    {
      "cell_type": "markdown",
      "source": [
        "pd.read_csv, pd.read_excel ,df.columns ,df.select_dtypes(),df.insert"
      ],
      "metadata": {
        "id": "Q4mN3zRRxHcE"
      }
    },
    {
      "cell_type": "markdown",
      "source": [
        "DataFrames are both value-mutable and size-mutable Series, by contrast, is only value-mutable, not size-mutable. The length of a Series cannot be changed although the values can be changed."
      ],
      "metadata": {
        "id": "1hJP6TZ0xoeO"
      }
    },
    {
      "cell_type": "code",
      "source": [
        "courses = pd.Series([\"Spark\",\"PySpark\",\"Hadoop\"])\n",
        "fees = pd.Series([22000,25000,23000])\n",
        "discount  = pd.Series([1000,2300,1000])\n",
        "df=pd.concat([courses,fees],axis=1)\n",
        "df=pd.concat([courses,fees,discount],axis=1)\n",
        "print(df)"
      ],
      "metadata": {
        "colab": {
          "base_uri": "https://localhost:8080/"
        },
        "id": "3DV5LU8dxzpM",
        "outputId": "cd9e1a60-ba65-4403-e1ea-f382ea02e385"
      },
      "execution_count": 10,
      "outputs": [
        {
          "output_type": "stream",
          "name": "stdout",
          "text": [
            "         0      1     2\n",
            "0    Spark  22000  1000\n",
            "1  PySpark  25000  2300\n",
            "2   Hadoop  23000  1000\n"
          ]
        }
      ]
    }
  ]
}