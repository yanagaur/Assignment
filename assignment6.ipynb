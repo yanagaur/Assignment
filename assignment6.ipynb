{
  "nbformat": 4,
  "nbformat_minor": 0,
  "metadata": {
    "colab": {
      "provenance": []
    },
    "kernelspec": {
      "name": "python3",
      "display_name": "Python 3"
    },
    "language_info": {
      "name": "python"
    }
  },
  "cells": [
    {
      "cell_type": "markdown",
      "source": [
        "Object − Objects have states and behaviors. Example: A dog has states - color, name, breed as well as behaviors – wagging the tail, barking, eating. An object is an instance of a class.\n",
        "\n",
        "Class − A class can be defined as a template/blueprint that describes the behavior/state that the object of its type support.\n",
        "objects have a state and a behavior.\n",
        "\n",
        "If we consider a dog, then its state is - name, breed, color, and the behavior is - barking, wagging the tail, running."
      ],
      "metadata": {
        "id": "Y1BdM_bNF6J9"
      }
    },
    {
      "cell_type": "markdown",
      "source": [
        "Polymorphism\n",
        "\n",
        "Inheritance\n",
        "\n",
        "Encapsulation\n",
        "\n",
        "Abstraction"
      ],
      "metadata": {
        "id": "K9OJ56yDGHVc"
      }
    },
    {
      "cell_type": "markdown",
      "source": [
        "the __init__() function to assign values to object properties, or other operations that are necessary to do when the object is being created"
      ],
      "metadata": {
        "id": "CLhwTEQdGZFo"
      }
    },
    {
      "cell_type": "markdown",
      "source": [
        "The self variable is used to represent the instance of the class which is often used in object-oriented programming. It works as a reference to the object. Python uses the self parameter to refer to instance attributes and methods of the class"
      ],
      "metadata": {
        "id": "EO9pvTzgGnOE"
      }
    },
    {
      "cell_type": "markdown",
      "source": [
        "Inheritance is a process of obtaining properties and characteristics(variables and methods) of another class. In this hierarchical order, the class which inherits another class is called subclass or child class, and the other class is the parent class.\n",
        "\n",
        "Inheritance is categorized based on the hierarchy followed and the number of parent classes and subclasses involved.\n",
        "\n",
        "There are five types of inheritances:\n",
        "\n",
        "Single Inheritance\n",
        "Multiple Inheritance\n",
        "Multilevel Inheritance\n",
        "Hierarchical Inheritance\n",
        "Hybrid Inheritance"
      ],
      "metadata": {
        "id": "vIdPQDugG0_D"
      }
    }
  ]
}