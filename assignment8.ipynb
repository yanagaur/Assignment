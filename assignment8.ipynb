{
  "nbformat": 4,
  "nbformat_minor": 0,
  "metadata": {
    "colab": {
      "provenance": []
    },
    "kernelspec": {
      "name": "python3",
      "display_name": "Python 3"
    },
    "language_info": {
      "name": "python"
    }
  },
  "cells": [
    {
      "cell_type": "markdown",
      "source": [
        "A database is an organized collection of structured information, or data, typically stored electronically in a computer system. \n",
        "\n",
        "SQL, which stands for “Structured Query Language,” is the programming language that’s been widely used in managing data in relational database management systems (RDBMS) \n",
        "\n",
        "NoSQL is a non-relational database, meaning it allows different structures than a SQL database (not rows and columns) and more flexibility to use a format that best fits the data"
      ],
      "metadata": {
        "id": "PY6qOSVdiJYq"
      }
    },
    {
      "cell_type": "markdown",
      "source": [
        "Data Definition Language(DDL) is a subset of SQL and a part of DBMS(Database Management System). DDL consist of Commands to commands like CREATE, ALTER, TRUNCATE and DROP. These commands are used to create or modify the tables in SQL.\n",
        "\n",
        "\n",
        "CREATE TABLE Student_info\n",
        "(\n",
        "College_Id number(2),\n",
        "College_name varchar(30),\n",
        "Branch varchar(10)\n",
        ");\n",
        "ALTER TABLE Student_info\n",
        "ADD CGPA number;\n",
        "TRUNCATE TABLE Student_info;\n",
        "DROP TABLE Student_info;\n"
      ],
      "metadata": {
        "id": "oS6ZJQQ5iXyi"
      }
    },
    {
      "cell_type": "markdown",
      "source": [
        "The data manipulation language statements are used to retrieve, add, delete, and modify the data that is stored in the objects of database. The keywords or statements that are associated with the data manipulation language are: SELECT INSERT, UPDATE and DELETE. \n",
        "\n",
        "INSERT into EMPLOYEE values (10, ‘Management’, ‘E01’, ‘John Abraham’);\n",
        "\n",
        "Update employee set EMP_NO = E04 where DEPT_NO = 30;\n",
        "\n",
        "DELETE from Employee;"
      ],
      "metadata": {
        "id": "bmOJyr5di3pz"
      }
    },
    {
      "cell_type": "markdown",
      "source": [
        "DQL is a portion of a SQL statement that allows you to get and organise data from a database. You can use the SELECT command to extract data from a database in order to perform actions on it. It is the same as the projection operation in relational algebra. \n",
        "\n",
        "SELECT Stu_Name FROM Student WHERE Phone = 9039462908;"
      ],
      "metadata": {
        "id": "tOWZBhoFjfYD"
      }
    },
    {
      "cell_type": "markdown",
      "source": [
        "A primary key generally focuses on the uniqueness of the table. It is a column or a set of columns that uniquely distinguishes every row in the database. It means it should not have any duplicate value. Also, it doesn’t contain a NULL value.\n",
        "\n",
        "A foreign key is generally used to build a relationship between the two tables. The major purpose of the foreign key is to sustain data integrity between two separate instances of an entity.\n",
        "\n"
      ],
      "metadata": {
        "id": "tPDp_nIajmFf"
      }
    },
    {
      "cell_type": "code",
      "source": [
        "import mysql.connector\n",
        "\n",
        "#establishing the connection\n",
        "conn = mysql.connector.connect(\n",
        "   user='root', password='password', host='127.0.0.1', database='mydb'\n",
        ")\n",
        "#Creating a cursor object using the cursor() method\n",
        "cursor = conn.cursor()"
      ],
      "metadata": {
        "id": "1Cu4w2PGjx4t"
      },
      "execution_count": null,
      "outputs": []
    },
    {
      "cell_type": "markdown",
      "source": [
        "The order in which the clauses in queries are executed is as follows:\n",
        "\n",
        "1. FROM/JOIN: The FROM and/or JOIN clauses are executed first to determine the data of interest.\n",
        "\n",
        "2. WHERE: The WHERE clause is executed to filter out records that do not meet the constraints.\n",
        "\n",
        "3. GROUP BY: The GROUP BY clause is executed to group the data based on the values in one or more columns.\n",
        "\n",
        "4. HAVING: The HAVING clause is executed to remove the created grouped records that don’t meet the constraints.\n",
        "\n",
        "5. SELECT: The SELECT clause is executed to derive all desired columns and expressions.\n",
        "\n",
        "6. ORDER BY: The ORDER BY clause is executed to sort the derived values in ascending or descending order.\n",
        "\n",
        "7. LIMIT/OFFSET: Finally, the LIMIT and/or OFFSET clauses are executed to keep or skip a specified number of rows.\n",
        "\n"
      ],
      "metadata": {
        "id": "kIuZXviHj3lB"
      }
    }
  ]
}